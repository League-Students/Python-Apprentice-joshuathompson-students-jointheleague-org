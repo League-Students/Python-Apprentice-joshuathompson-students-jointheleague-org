{
 "cells": [
  {
   "cell_type": "markdown",
   "metadata": {},
   "source": [
    "# Loops and Variables\n",
    "\n",
    "In our first Tina the Turtle program, we had Tina draw a square, but it was \n",
    "very tedious, and involved a lot of repetition: \n",
    "\n",
    "```python \n",
    "import turtle                           # Tell Python we want to work with the turtle\n",
    "turtle.setup(600,600,0,0)               # Set the size of the window\n",
    "\n",
    "tina = turtle.Turtle()                  # Create a turtle named tina\n",
    "\n",
    "tina.shape('turtle')                    # Set the shape of the turtle to a turtle\n",
    "tina.speed(2)                           # Make the turtle move as fast, but not too fast. \n",
    "\n",
    "tina.forward(150)                       # Move tina forward by the forward distance\n",
    "tina.left(90)                           # Turn tina left by the left turn\n",
    "\n",
    "tina.forward(150)                       # Continue the last two steps three more times\n",
    "tina.left(90)                           # to draw a square\n",
    "\n",
    "tina.forward(150)\n",
    "tina.left(90)\n",
    "\n",
    "tina.forward(150)\n",
    "tina.left(90)\n",
    "```"
   ]
  },
  {
   "cell_type": "markdown",
   "metadata": {
    "vscode": {
     "languageId": "plaintext"
    }
   },
   "source": [
    "The code \n",
    "\n",
    "```python \n",
    "tina.forward(150)\n",
    "tina.left(90)\n",
    "\n",
    "```\n",
    "\n",
    "gets repeated 4 times. That doesn't seem right!\n",
    "\n",
    "We can improve this code with a loop. Here is an example of a loop:\n",
    "\n",
    "( Remember that you can run it; click the  \"▶️\" on the left. \n",
    " ) "
   ]
  },
  {
   "cell_type": "code",
   "execution_count": null,
   "metadata": {},
   "outputs": [
    {
     "ename": "",
     "evalue": "",
     "output_type": "error",
     "traceback": [
      "\u001b[1;31mRunning cells with 'Python 3.11.2' requires the ipykernel package.\n",
      "\u001b[1;31m<a href='command:jupyter.createPythonEnvAndSelectController'>Create a Python Environment</a> with the required packages."
     ]
    }
   ],
   "source": [
    "# For loop; try changing the number of iterations to 6\n",
    "for i in range(4):\n",
    "    print('Loop Iteration', i)"
   ]
  },
  {
   "cell_type": "markdown",
   "metadata": {},
   "source": [
    "Notice that the number of iterations is the number inside of the parentheses in\n",
    "`range()`. Also notice that the `print` statement is indented below the `for` loop\n",
    "line. Indenting is how you tell python what lines of code should be repeated. \n",
    "\n",
    "The `i` in the line `for i in range(4)` is a variable; it will hold the number of the \n",
    "iteration, starting at 0. For most of our loops in this module we won't use the \n",
    "variable, but we will study it more in a later module. \n",
    "\n",
    "\n",
    "Now try updating the next program ``05_Loop_with_Turtle.py`` with a loop. "
   ]
  },
  {
   "cell_type": "code",
   "execution_count": 1,
   "metadata": {},
   "outputs": [
    {
     "ename": "NameError",
     "evalue": "name 'tina' is not defined",
     "output_type": "error",
     "traceback": [
      "\u001b[31m---------------------------------------------------------------------------\u001b[39m",
      "\u001b[31mNameError\u001b[39m                                 Traceback (most recent call last)",
      "\u001b[36mCell\u001b[39m\u001b[36m \u001b[39m\u001b[32mIn[1]\u001b[39m\u001b[32m, line 2\u001b[39m\n\u001b[32m      1\u001b[39m \u001b[38;5;28;01mfor\u001b[39;00m i \u001b[38;5;129;01min\u001b[39;00m \u001b[38;5;28mrange\u001b[39m(\u001b[32m4\u001b[39m):\n\u001b[32m----> \u001b[39m\u001b[32m2\u001b[39m     \u001b[43mtina\u001b[49m.forward(\u001b[32m150\u001b[39m)\n\u001b[32m      3\u001b[39m     tina.left(\u001b[32m90\u001b[39m)\n",
      "\u001b[31mNameError\u001b[39m: name 'tina' is not defined"
     ]
    }
   ],
   "source": [
    "for i in range(4):\n",
    "    tina.forward(150)\n",
    "    tina.left(90)"
   ]
  }
 ],
 "metadata": {
  "kernelspec": {
   "display_name": "Python 3",
   "language": "python",
   "name": "python3"
  },
  "language_info": {
   "codemirror_mode": {
    "name": "ipython",
    "version": 3
   },
   "file_extension": ".py",
   "mimetype": "text/x-python",
   "name": "python",
   "nbconvert_exporter": "python",
   "pygments_lexer": "ipython3",
   "version": "3.12.11"
  },
  "syllabus": {
   "uid": "abX8sNwB"
  }
 },
 "nbformat": 4,
 "nbformat_minor": 2
}
